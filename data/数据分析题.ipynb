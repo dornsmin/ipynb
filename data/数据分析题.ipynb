{
 "cells": [
  {
   "cell_type": "code",
   "execution_count": 11,
   "id": "8b8e81f3",
   "metadata": {},
   "outputs": [
    {
     "name": "stdout",
     "output_type": "stream",
     "text": [
      "昔人已乘黄鹤___\n",
      "\n",
      "此地空余黄鹤___\n",
      "\n",
      "黄鹤一___不复返\n",
      "\n",
      "___云千载空悠悠\n",
      "\n",
      "晴川历历汉___树\n",
      "\n",
      "芳草___萋鹦鹉洲\n",
      "\n",
      "___暮乡关何处是\n",
      "\n",
      "烟波江上使___愁\n",
      "\n",
      "请输入答案用逗号分隔\n",
      "去，楼，去，白，阳，萋，日，人\n",
      "您得了100.0分\n"
     ]
    }
   ],
   "source": [
    "import random #导入随机模块\n",
    "poetry = [\"昔人已乘黄鹤去\",\"此地空余黄鹤楼\",\"黄鹤一去不复返\",\"白云千载空悠悠\",\"晴川历历汉阳树\",\"芳草萋萋鹦鹉洲\",\"日暮乡关何处是\",\"烟波江上使人愁\"] #用列表定义诗\n",
    "answer=[]                                   #初始化标准答案列表answer\n",
    "#生成填空题的填空位置\n",
    "for i in range(len(poetry)):\n",
    "    tmp = random.randint(0, (len(poetry[0])-1))                #生成一个0到6之间的随机整数\n",
    "    for j in range(len(poetry[0])):\n",
    "        if j == tmp:\n",
    "            print(\"___\", end=\"\")              #在该汉字的位置打印下划线\n",
    "            answer.append(poetry[i][j])        #将该汉字添加到标准答案列表中\n",
    "        else:\n",
    "            print(poetry[i][j], end=\"\")\n",
    "    print(\"\\n\")\n",
    "#输入答案\n",
    "data = input(\"请输入答案用逗号分隔\\n\")  #接受用户输入字符串\n",
    "data = data.replace(\"，\", \",\").split(\",\")      #将中文逗号替换为英文逗号\n",
    "#根据输入的答案计算总成绩\n",
    "score = 0.0\n",
    "for i in range(len(poetry)):\n",
    "    if data[i] == answer[i]:\n",
    "         score+=12.5                          #计算学生分数，每题12.5分\n",
    "print(\"您得了%s分\"%score)\n"
   ]
  },
  {
   "cell_type": "code",
   "execution_count": 18,
   "id": "c40efa81",
   "metadata": {},
   "outputs": [
    {
     "name": "stdout",
     "output_type": "stream",
     "text": [
      "74 + 98=______ \n",
      "18 + 59=______ \n",
      "31 + 85=______ \n",
      "38 + 65=______ \n",
      "68 + 51=______ \n",
      "66 +  4=______ \n",
      "62 + 22=______ \n",
      "83 + 43=______ \n",
      "54 + 20=______ \n",
      "87 + 16=______ \n",
      "[172, 77, 116, 103, 119, 70, 84, 126, 74, 103]\n",
      "请输入答案用逗号分隔\n",
      "172, 77, 116, 103, 119, 70, 84, 126, 74, 103\n",
      "['172', ' 77', ' 116', ' 103', ' 119', ' 70', ' 84', ' 126', ' 74', ' 103']\n",
      "您得了100.0分\n"
     ]
    }
   ],
   "source": [
    "#将上段程序改成计算10道100以内的加运算题\n",
    "import random #导入随机模块\n",
    "answer=[]                                   #初始化标准答案列表answer\n",
    "for i in range(10):\n",
    "    tmp1 = random.randint(0,100)                #生成一个0到100之间的随机整数\n",
    "    tmp2 = random.randint(0,100)                #生成一个0到100之间的随机整数\n",
    "    answer.append(tmp1+tmp2) \n",
    "    print(\"{:2d} + {:2d}=______ \".format(tmp1,tmp2))              #在答案位置打印下划线\n",
    "    #输入答案\n",
    "print(answer)\n",
    "data = input(\"请输入答案用逗号分隔\\n\")  #接受用户输入字符串\n",
    "data = data.replace(\"，\", \",\").split(\",\")      #将中文逗号替换为英文逗号\n",
    "print(data)\n",
    "#根据输入的答案计算总成绩\n",
    "score = 0.0\n",
    "for i in range(10):\n",
    "    if int(data[i]) == answer[i]:\n",
    "         score+=10                          #计算学生分数，每题10分\n",
    "print(\"您得了%s分\"%score)       \n"
   ]
  },
  {
   "cell_type": "markdown",
   "id": "d64c452e",
   "metadata": {},
   "source": [
    "<div class=\"alert alert-success alertsuccess\" style=\"margin-top:0px\">\n",
    "    <h2><a name=\"Chapter3.7\" style=\"color:#3C763D\"> 字符串常用操作</a></h2><br/>\n",
    "    在数据分析中，经常会对字符串进行一些处理，比如转换和清洗等，这就需要我们掌握一些字符串的常用操作。\n",
    "</div>"
   ]
  },
  {
   "cell_type": "markdown",
   "id": "985b13e8",
   "metadata": {},
   "source": [
    "#### ➣ len()\n",
    "用来获取字符串的长度。\n",
    "#### ➣ lower()\n",
    "将字符串中所有字母变成小写，并返回为一个新的字符串副本。\n",
    "<br/><font color=\"red\">注：这时候继续打印原字符串，发现并没有发生变化，表示调用方法后，原字符串值不变，返回的是一个新的字符串，后续的函数都是如此</font>\n",
    "#### ➣ upper()\n",
    "将字符串中所有字母变成大写，并返回为一个新的字符串副本。（即调用方法后，原字符串值不变，返回的是一个新的字符串，下同）\n",
    "#### ➣ title()\n",
    "将字符串的首字母变成大写，并返回为一个新的字符串副本。\n",
    "#### ➣ replace()\n",
    "将字符串中希望被替换的字符串（第一个参数）替换为目标字符串（第二个参数），并返回为一个新的字符串副本。\n",
    "#### ➣ split()\n",
    "将字符串根据指定的间隔符拆分成多个字符串组成一个列表返回，其中默认间隔符是空格 <br/>\n",
    "拆分成的列表可以通过循环打印输出\n",
    "#### ➣ lstrip()、rstrip()、strip()\n",
    "将字符串去除左端、右端、两端的空格，并返回为一个新的字符串副本。"
   ]
  },
  {
   "cell_type": "code",
   "execution_count": null,
   "id": "aaab268a",
   "metadata": {},
   "outputs": [],
   "source": [
    "ss=\"i am a college student,i am learning python\"\n",
    "len(ss)\n",
    "print(ss.upper())\n",
    "print(ss.lower())\n",
    "print(ss.title())\n",
    "print(ss.replace(\"i \",\"I \"))\n",
    "print(ss.split(\" \"))\n",
    "for i in ss.split(\" \"):\n",
    "    print(\"******\")\n",
    "sstr1=\"   you are playing your computer,are you right!!  \"\n",
    "sstr1.lstrip()\n",
    "sstr1.strip()\n",
    "sstr1.rstrip()"
   ]
  },
  {
   "cell_type": "markdown",
   "id": "eb02fdca",
   "metadata": {},
   "source": [
    "<div class=\"alert alert-success alertsuccess\" style=\"margin-top:0px\">\n",
    "    <h2><a name=\"Chapter3.8\" style=\"color:#3C763D\">列表</a></h2><br/>\n",
    "    列表类似一个数组，用来存放一组数据，这些数据可以是不同的数据类型。\n",
    "</div>\n",
    "\n",
    "### ❖ 列表的特点：\n",
    "- 列表由多个元素组成，每个元素用逗号分隔，整个列表由方括号包围\n",
    "- 每个元素都有索引，首位从0开始，依次累加1.\n",
    "- 支持添加、修改、删除操作\n",
    "- 支持切片操作（[:]），切片操作返回新的副本\n",
    "- 列表解析是一种快速组装新列表的方法"
   ]
  },
  {
   "cell_type": "markdown",
   "id": "4947f911",
   "metadata": {},
   "source": [
    "### ❖ 列表的创建\n",
    "#### ➣ 创建一个空列表\n",
    "#### ➣ 用range()函数快速创建一个列表\n",
    "#### ➣ 用copy()函数创建列表的副本"
   ]
  },
  {
   "cell_type": "code",
   "execution_count": 2,
   "id": "752a6d06",
   "metadata": {},
   "outputs": [
    {
     "name": "stdout",
     "output_type": "stream",
     "text": [
      "[0, 2, 4, 6, 8]\n",
      "0,2,4,6,8,"
     ]
    }
   ],
   "source": [
    "list1=[]\n",
    "list1\n",
    "lst1=list(range(0, 10, 2))\n",
    "print(lst1)\n",
    "for i in lst1:\n",
    "    print(i,end=\",\")\n"
   ]
  },
  {
   "cell_type": "markdown",
   "id": "a495754f",
   "metadata": {},
   "source": [
    "#### ➣ 列表可以包含重复的元素值"
   ]
  },
  {
   "cell_type": "code",
   "execution_count": 18,
   "id": "1443c140",
   "metadata": {},
   "outputs": [
    {
     "data": {
      "text/plain": [
       "['a', 'b', 'c', 'd', 'd', 'd']"
      ]
     },
     "execution_count": 18,
     "metadata": {},
     "output_type": "execute_result"
    }
   ],
   "source": [
    "elist = ['a', 'b', 'c', 'd', 'd', 'd']\n",
    "elist"
   ]
  },
  {
   "cell_type": "markdown",
   "id": "d18c8f7c",
   "metadata": {},
   "source": [
    "#### ➣ 列表也可以包含不同类型的元素值"
   ]
  },
  {
   "cell_type": "code",
   "execution_count": 20,
   "id": "795bd56b",
   "metadata": {},
   "outputs": [
    {
     "data": {
      "text/plain": [
       "[1, 'e', 2, 'b', 3, 'c']"
      ]
     },
     "execution_count": 20,
     "metadata": {},
     "output_type": "execute_result"
    }
   ],
   "source": [
    "LList = [1, 'e', 2, 'b', 3, 'c']\n",
    "LList"
   ]
  },
  {
   "cell_type": "markdown",
   "id": "7378bc8a",
   "metadata": {},
   "source": [
    "#### ➣ 列表可以不止一维，还可以有二维和更高的维度，在科学运算中用来表示矩阵和向量。"
   ]
  },
  {
   "cell_type": "code",
   "execution_count": 8,
   "id": "cbc59df1",
   "metadata": {},
   "outputs": [],
   "source": [
    "tlist=[[23,45],[8,9,10],[2,9,11,13]]    "
   ]
  },
  {
   "cell_type": "markdown",
   "id": "ef42c19d",
   "metadata": {},
   "source": [
    "### ❖ 列表的索引及切片\n",
    "#### ➣列表索引用来选取列表的一个某个元素。\n",
    "#### ➣列表切片用来选取列表的一个子集并返回新的副本。\n",
    "语法：列表[start:stop:step]，其中 start 是开始索引序号，stop 是结束索引序号，step 是步长\n",
    "- start >= 0：从列表左端为起点，从0开始计算，超出列表长度则起点大于列表长度，返回空列表\n",
    "- start < 0：从列表右端起第一个元素为-1，超出列表长度则等价于从起点0开始\n",
    "- stop >= 0：从列表左端为起点，从0开始计算，但不包含n指定的那个单元\n",
    "- stop < 0：从列表右端起第一个元素为-1，但不包含n指定的那个单元，超出列表长度则终点小于起点，返回空列表\n",
    "<img src=\"./images/Python1.indexUseageOfList.png\" align=\"center\" width=\"400\"/>"
   ]
  },
  {
   "cell_type": "markdown",
   "id": "a2132fb1",
   "metadata": {},
   "source": [
    "### ❖ 列表元素的取值和赋值\n",
    "#### ➣列表元素的取值\n",
    "\n",
    "可以通过“列表[序号]”的方式来正向取值，序号从0开始。也可以通过序号是负数的方式来从列表右端反向取值，负数序号从-1开始。"
   ]
  },
  {
   "cell_type": "code",
   "execution_count": 10,
   "id": "aea5be37",
   "metadata": {},
   "outputs": [
    {
     "name": "stdout",
     "output_type": "stream",
     "text": [
      "9 8 7 6 5 \n",
      "------------------------\n",
      "9 8 7 6 5 \n",
      "------------------------\n",
      "23 45 8 9 10 2 9 11 13 \n",
      "------------------------\n",
      "23 45 8 9 10 2 9 11 13 "
     ]
    }
   ],
   "source": [
    "#一维列表\n",
    "#提取列表的元素，将列表里的元素直接作为迭代对象\n",
    "slist=[9,8,7,6,5]\n",
    "for i in slist:\n",
    "    print(i,end=\" \")\n",
    "print(\"\\n------------------------\")\n",
    "#提取列表的元素，按列表里的元素位置作为迭代对象\n",
    "for i in range(len(slist)):\n",
    "    print(slist[i],end=\" \")\n",
    "print(\"\\n------------------------\")\n",
    "\n",
    "#二维列表\n",
    "#提取列表的元素，将列表里的元素直接作为迭代对象\n",
    "tlist=[[23,45],[8,9,10],[2,9,11,13]]    \n",
    "for i in tlist:\n",
    "    for j in i:\n",
    "        print(j,end=\" \")\n",
    "\n",
    "print(\"\\n------------------------\")\n",
    "#提取列表的元素，按列表里的元素位置作为迭代对象\n",
    "for i in range(len(tlist)):\n",
    "    for j in range(len(tlist[i])):\n",
    "        print(tlist[i][j],end=\" \")"
   ]
  },
  {
   "cell_type": "markdown",
   "id": "5aede06d",
   "metadata": {},
   "source": [
    "#### ➣ 列表元素的赋值\n",
    "和列表的取值一样，通过正整数序号或者负整数序号来从左端或右端指定位置给列表元素赋值（修改值）"
   ]
  },
  {
   "cell_type": "code",
   "execution_count": 11,
   "id": "40b5660a",
   "metadata": {},
   "outputs": [
    {
     "name": "stdout",
     "output_type": "stream",
     "text": [
      "[23, 45]\n",
      "23\n",
      "[[99, 45], [8, 9, 10], [2, 9, 11, 13]]\n"
     ]
    }
   ],
   "source": [
    "tlist=[[23,45],[8,9,10],[2,9,11,13]]    \n",
    "print(tlist[0])\n",
    "print(tlist[0][0])\n",
    "tlist[0][0]=99\n",
    "print(tlist)"
   ]
  },
  {
   "cell_type": "markdown",
   "id": "5943cea6",
   "metadata": {},
   "source": [
    "### ❖ 列表元素的增加和删除\n",
    "#### ➣ 从列表尾部追加新元素：列表.append(value)，value是要插入的新元素值\n",
    "#### ➣ 从列表指定序号之前插入新元素：列表.insert(index, value)，index是位置序号，value是新元素值\n",
    "#### ➣ 在列表后追加列表：列表.extend(新列表)\n",
    "#### ➣ 还有一种更简单的追加列表的方法，就是直接用“+”号\n",
    "#### ➣ 想要对列表现有的元素进行翻倍，可以对列表使用乘法“*”\n",
    "#### ➣ 删除列表的指定元素\n",
    "\n",
    "方法1，用 del 指令删除指定列表元素：del 列表[序号]\n",
    "</br>方法2，用列表的 pop 函数来删除指定序号的元素：列表.pop(index)，其中index是位置序号，index可以不传，则默认删除最后一个元素\n",
    "<br/>方法3，用列表的 remove 函数来删除指定值的元素：列表.remove(value)，其中value是要删掉的指定元素值"
   ]
  },
  {
   "cell_type": "code",
   "execution_count": 19,
   "id": "cc398688",
   "metadata": {},
   "outputs": [],
   "source": [
    "ss=[2,3,4,3,5,3,6,9]\n",
    "\n"
   ]
  },
  {
   "cell_type": "markdown",
   "id": "fec71a0e",
   "metadata": {},
   "source": [
    "### ❖ 列表元素的查找和定位\n",
    "#### ➣ 用 in 来判断列表中是否存在某元素值\n",
    "#### ➣ 在列表中定位某元素值的序号：列表.index(value)，其中value是需要定位的元素值"
   ]
  },
  {
   "cell_type": "code",
   "execution_count": null,
   "id": "80d6f232",
   "metadata": {},
   "outputs": [],
   "source": []
  },
  {
   "cell_type": "markdown",
   "id": "235e6fd0",
   "metadata": {},
   "source": [
    "### ❖ 列表的拆包\n",
    "列表的拆包就是在一句话中将列表的多个元素值同时赋给多个变量，是一种高效的做法。\n",
    "<br/>\n",
    "前面带*号的变量，可以赋予一个拆分后的子列表。"
   ]
  },
  {
   "cell_type": "code",
   "execution_count": null,
   "id": "c6b55839",
   "metadata": {},
   "outputs": [],
   "source": []
  },
  {
   "cell_type": "markdown",
   "id": "70b3afd0",
   "metadata": {},
   "source": [
    "### ❖ 列表的统计\n",
    "#### ➣ 获取列表的长度：len(列表)\n",
    "#### ➣ 获取某个值在列表中的出现次数：列表.count(value)，其中value就是需要查找的那个元素值。"
   ]
  },
  {
   "cell_type": "code",
   "execution_count": null,
   "id": "9edfc763",
   "metadata": {},
   "outputs": [],
   "source": []
  },
  {
   "cell_type": "markdown",
   "id": "56ca5068",
   "metadata": {},
   "source": [
    "### ❖ 列表的排序\n",
    "#### ➣ 排序：列表.sort()\n",
    "<br/>\n",
    "上面的排序是正序排序，如果想要反序排序，可以在函数中增加参数：sort(reverse=True)。\n",
    "<br/>\n",
    "有时候我们在对列表排序的时候并不想改变原有列表的元素顺序，而是想返回一个新列表 ，这时候可以使用sorted(列表)这个函数。\n",
    "同样，有时候我们在反转列表的时候并不想改变原有列表的元素顺序，而是想返回一个新列表 ，这时候可以使用revered(列表)这个函数。\n",
    "但需要注意的是，reversed函数返回的是一个迭代器，所以需要用list()方法转换成列表。"
   ]
  },
  {
   "cell_type": "code",
   "execution_count": null,
   "id": "b2713aa4",
   "metadata": {},
   "outputs": [],
   "source": []
  },
  {
   "cell_type": "markdown",
   "id": "11d2f10f",
   "metadata": {},
   "source": [
    "### ❖ 列表的遍历\n",
    "\n",
    "#### ➣ 用 for 循环语句遍历"
   ]
  },
  {
   "cell_type": "code",
   "execution_count": 21,
   "id": "c88ec846",
   "metadata": {},
   "outputs": [
    {
     "name": "stdout",
     "output_type": "stream",
     "text": [
      "23\n",
      "45\n",
      "8\n",
      "9\n",
      "10\n",
      "2\n",
      "9\n",
      "11\n",
      "13\n"
     ]
    }
   ],
   "source": [
    "tlist=[[23,45],[8,9,10],[2,9,11,13]]    \n",
    "for i in tlist:\n",
    "    for j in (i):\n",
    "        print(j)"
   ]
  },
  {
   "cell_type": "markdown",
   "id": "1cc4215e",
   "metadata": {},
   "source": [
    "#### ➣ 用 for 和 enumerate 的组合进行循环遍历(提升）\n",
    "在 for 循环里加上 enumerate 函数，enumerate可以同时获得索引和值，即需要 index 和 value 值的时候可以使用enumerate；\n",
    "enumerate()返回的是一个enumerate对象 。"
   ]
  },
  {
   "cell_type": "code",
   "execution_count": 22,
   "id": "89dab445",
   "metadata": {},
   "outputs": [
    {
     "name": "stdout",
     "output_type": "stream",
     "text": [
      "value[0]=1\n",
      "value[1]=2\n",
      "value[2]=3\n",
      "value[3]=4\n",
      "value[4]=5\n"
     ]
    }
   ],
   "source": [
    "list1 = [1, 2, 3, 4, 5]\n",
    "for i, v in enumerate(list1):  \n",
    "    print(\"value[{0}]={1}\".format(i, v))\n",
    "\n",
    "    "
   ]
  },
  {
   "cell_type": "markdown",
   "id": "fdd3d769",
   "metadata": {},
   "source": [
    "#### ➣ 用 for 循环和 zip() 函数进行多列表组合遍历（提升）\n",
    "zip() 函数用于将若干个可迭代的对象作为参数，将其打包成一个个元组，然后返回由这些元组组成的列表。<font color=\"green\">（注：元组的具体概念可在下文学习）</font>"
   ]
  },
  {
   "cell_type": "code",
   "execution_count": 23,
   "id": "e24b8296",
   "metadata": {},
   "outputs": [
    {
     "name": "stdout",
     "output_type": "stream",
     "text": [
      "学校[0]：光明中学，招生人数83。\n",
      "学校[1]：育才中学，招生人数122。\n",
      "学校[2]：控江中学，招生人数97。\n",
      "学校[3]：复旦附中，招生人数89。\n",
      "学校[4]：上海中学，招生人数101。\n"
     ]
    }
   ],
   "source": [
    "schools = ['光明中学', '育才中学', '控江中学', '复旦附中', '上海中学']\n",
    "enrolmentNumbers = [83, 122, 97, 89, 101]\n",
    "for i, (school, number) in enumerate(zip(schools, enrolmentNumbers)):\n",
    "    print(\"学校[{0}]：{1}，招生人数{2}。\".format(i, school, number))"
   ]
  },
  {
   "cell_type": "markdown",
   "id": "622bb803",
   "metadata": {},
   "source": [
    "### ❖ 列表解析\n",
    "列表解析式是将一个列表（实际上适用于任何可迭代对象（iterable））转换成另一个列表的工具。在转换过程中，可以指定元素必须符合一定的条件，才能添加至新的列表中，这样每个元素都可以按需要进行转换。\n",
    "\n",
    "#### ➣ 创建一个列表，元素值为1-10之间每个数字的平方：\n",
    "#### ➣ 创建一个新列表，将原有字符串数组的每个元素首字母大写："
   ]
  },
  {
   "cell_type": "code",
   "execution_count": 9,
   "id": "0636775a",
   "metadata": {},
   "outputs": [
    {
     "name": "stdout",
     "output_type": "stream",
     "text": [
      "[1, 4, 9, 16, 25, 36, 49, 64, 81, 100]\n"
     ]
    },
    {
     "data": {
      "text/plain": [
       "['Monday', 'Tuesday', 'Wednesday', 'Thirsday', 'Friday', 'Saturday', 'Sunday']"
      ]
     },
     "execution_count": 9,
     "metadata": {},
     "output_type": "execute_result"
    }
   ],
   "source": [
    "print([value ** 2 for value in range(1, 11)])\n",
    "[value.title() for value in ['monday', 'tuesday', 'wednesday', 'thirsday', 'friday', 'saturday', 'sunday']]"
   ]
  },
  {
   "cell_type": "markdown",
   "id": "3ecca57c",
   "metadata": {},
   "source": [
    "<h1 align=\"center\"><a name=\"home\">课堂练习</a></h1>"
   ]
  },
  {
   "cell_type": "markdown",
   "id": "8373622a",
   "metadata": {},
   "source": [
    "### 2. 字符串及字符串的split()的使用（如果两行多行的数据个数相等怎么处理；不相等怎么处理）\n",
    "将下图的字符数据先进行分割然后计算分割后的数据和（以字符定义的形式进行操作，如果有文件操作的知识就用文件操作）\n",
    "<img src=\"./images/tu46.jpg\" align=\"center\" width=\"200\"/>"
   ]
  },
  {
   "cell_type": "code",
   "execution_count": null,
   "id": "467011c4",
   "metadata": {},
   "outputs": [],
   "source": [
    "#字符串定义编程\n",
    "slist=\"22|33|44|56|56|67|78|78|91|92\\n21|34|45|56|67|78|89|90|01|12\"\n",
    "ss=list(slist.split(\"\\n\"))\n",
    "#print(ss)\n",
    "sslist=[]\n",
    "for i in ss:\n",
    "    sslist.append(i.split(\"|\"))\n",
    "print(sslist)    \n",
    "sum=0\n",
    "for i in sslist:\n",
    "    \n",
    "    for j in range(len(i)):\n",
    "        sum+=int(i[j])\n",
    "    \n",
    "print(sum)\n"
   ]
  },
  {
   "cell_type": "markdown",
   "id": "92474b57",
   "metadata": {},
   "source": [
    "### 1. 字符串的界定及使用\n",
    "输入两个数，其中一个数赋给 n,另一个数赋给 a,打印输出\n",
    "\n",
    "<img src=\"./images/tu45.png\" align=\"center\" width=\"200\"/>\n",
    "\n",
    "的值。（如：输入 n 的值为 4， a 的值为 2,则打印输出的结果为 2+22+222+2222=2468）"
   ]
  },
  {
   "cell_type": "code",
   "execution_count": 25,
   "id": "6a5ae770",
   "metadata": {},
   "outputs": [
    {
     "name": "stdout",
     "output_type": "stream",
     "text": [
      "4\n",
      "2\n",
      "2468\n"
     ]
    }
   ],
   "source": [
    "n=input(\"n=\")\n",
    "a=input(\"a=\")\n",
    "s=0\n",
    "for i in range(1,int(n)+1):\n",
    "    s+=int(a*i)\n",
    "print(s)\n",
    "    "
   ]
  },
  {
   "cell_type": "markdown",
   "id": "617f4aab",
   "metadata": {},
   "source": []
  },
  {
   "cell_type": "code",
   "execution_count": 1,
   "id": "0a937715",
   "metadata": {},
   "outputs": [
    {
     "name": "stdout",
     "output_type": "stream",
     "text": [
      "['22', '33', '44', '56', '56', '67', '78', '78', '91', '92']\n",
      "617\n"
     ]
    },
    {
     "ename": "FileNotFoundError",
     "evalue": "[Errno 2] No such file or directory: 'C:/Users/HP/Desktop/p5/test.txt'",
     "output_type": "error",
     "traceback": [
      "\u001b[1;31m---------------------------------------------------------------------------\u001b[0m",
      "\u001b[1;31mFileNotFoundError\u001b[0m                         Traceback (most recent call last)",
      "\u001b[1;32m~\\AppData\\Local\\Temp\\ipykernel_12880\\1925586577.py\u001b[0m in \u001b[0;36m<module>\u001b[1;34m\u001b[0m\n\u001b[0;32m      8\u001b[0m \u001b[1;33m\u001b[0m\u001b[0m\n\u001b[0;32m      9\u001b[0m \u001b[1;31m#文件定义编程\u001b[0m\u001b[1;33m\u001b[0m\u001b[1;33m\u001b[0m\u001b[0m\n\u001b[1;32m---> 10\u001b[1;33m \u001b[0mf\u001b[0m\u001b[1;33m=\u001b[0m\u001b[0mopen\u001b[0m\u001b[1;33m(\u001b[0m\u001b[1;34m\"C:/Users/HP/Desktop/p5/test.txt\"\u001b[0m\u001b[1;33m)\u001b[0m\u001b[1;33m\u001b[0m\u001b[1;33m\u001b[0m\u001b[0m\n\u001b[0m\u001b[0;32m     11\u001b[0m \u001b[0ms\u001b[0m\u001b[1;33m=\u001b[0m\u001b[0mf\u001b[0m\u001b[1;33m.\u001b[0m\u001b[0mread\u001b[0m\u001b[1;33m(\u001b[0m\u001b[1;33m)\u001b[0m\u001b[1;33m\u001b[0m\u001b[1;33m\u001b[0m\u001b[0m\n\u001b[0;32m     12\u001b[0m \u001b[0mslist\u001b[0m\u001b[1;33m=\u001b[0m\u001b[0ms\u001b[0m\u001b[1;33m.\u001b[0m\u001b[0msplit\u001b[0m\u001b[1;33m(\u001b[0m\u001b[1;34m\"|\"\u001b[0m\u001b[1;33m)\u001b[0m\u001b[1;33m\u001b[0m\u001b[1;33m\u001b[0m\u001b[0m\n",
      "\u001b[1;31mFileNotFoundError\u001b[0m: [Errno 2] No such file or directory: 'C:/Users/HP/Desktop/p5/test.txt'"
     ]
    }
   ],
   "source": [
    "#字符定义编程\n",
    "str1=\"22|33|44|56|56|67|78|78|91|92\"\n",
    "print(str1.split(\"|\"))\n",
    "sum=0\n",
    "for j in str1.split(\"|\"):\n",
    "    sum+=int(j)\n",
    "print(sum)\n",
    " \n",
    "#文件定义编程\n",
    "f=open(\"C:/Users/HP/Desktop/p5/test.txt\")\n",
    "s=f.read()\n",
    "slist=s.split(\"|\")\n",
    "ss=0\n",
    "for i in slist:\n",
    "    ss+=int(i)\n",
    "print(ss)\n",
    "f.close()\n",
    "    \n"
   ]
  },
  {
   "cell_type": "markdown",
   "id": "3bba5317",
   "metadata": {},
   "source": [
    "### 3. 字符串和列表的综合练习\n",
    "将下图的字符数据先进行分割然后计算分割后的数据和（以字符定义的形式进行操作，如果有文件操作的知识就用文件操作）\n",
    "<img src=\"./images/tu6-1.jpg\" align=\"center\" width=\"200\"/>"
   ]
  },
  {
   "cell_type": "code",
   "execution_count": 14,
   "id": "cfff10dd",
   "metadata": {},
   "outputs": [
    {
     "name": "stdout",
     "output_type": "stream",
     "text": [
      "['22|33|44|56|56|67|78|78|91|92', '21|34|45|56|67|78|89|90|01|12']\n",
      "[['22', '33', '44', '56', '56', '67', '78', '78', '91', '92'], ['21', '34', '45', '56', '67', '78', '89', '90', '01', '12']]\n",
      "['22', '33', '44', '56', '56', '67', '78', '78', '91', '92']\n",
      "['21', '34', '45', '56', '67', '78', '89', '90', '01', '12']\n",
      "1110\n"
     ]
    }
   ],
   "source": [
    "#文件形式编程\n",
    "f=open(\"./test1.txt\")\n",
    "s=f.read()\n",
    "\n",
    "slist=list(s.split(\"\\n\"))\n",
    "print(slist)\n",
    "sslist=[]\n",
    "for i in slist:\n",
    "    sslist.append(i.split(\"|\"))\n",
    "print(sslist)    \n",
    "sum=0\n",
    "for i in sslist:\n",
    "    print(i)\n",
    "    for j in range(len(i)):\n",
    "        sum+=int(i[j])\n",
    "    \n",
    "print(sum)\n",
    "f.close()\n",
    "    "
   ]
  },
  {
   "cell_type": "markdown",
   "id": "a3289fe8",
   "metadata": {},
   "source": [
    " <h1 align=\"center\"><a name=\"home\">数据分析题 (综合练习）</a></h1>"
   ]
  },
  {
   "cell_type": "markdown",
   "id": "76b47028",
   "metadata": {},
   "source": [
    " ## <a name=\"内容\">涉及的知识点（要求熟练掌握）</a>\n",
    "- 文件操作：打开文件（open），读文件（read；readline;readlines。三个中的一个熟练掌握）。\n",
    "- 字符定义及字符的相关操作方法：字符的界定符；字符串的常用方法（如，split;replace;count;index等。\n",
    "- 控制结构：for循环；range迭代器的使用；死循环与break、continue\n",
    "- 列表的操作：将其它数据类型转换为列表；列表的索引及切片"
   ]
  },
  {
   "cell_type": "markdown",
   "id": "80e3b3de",
   "metadata": {},
   "source": [
    "### 一、\n",
    "“素材文件夹中的car_data.txt”文件是以英文逗号分隔的数据文本文件（文件局部如下图所示），记录了某出租汽车公司部分车辆某日0：00~23：00的车辆位置，无标题行。对应列分别是时间、车牌号、北纬、东经。\n",
    "<img src=\"./images/tu30.png\" align=\"center\" width=\"400\"/>\n",
    "因协助查找该日发生在2:00,北纬31.30线以北的案件（大于该北纬值），请编写程序，找到并打印符合该位置条件的该出租车公司的车辆信息。运行结果下图所示。\n",
    "<img src=\"./images/tu31.jpg\" align=\"center\" width=\"400\"/> "
   ]
  },
  {
   "cell_type": "markdown",
   "id": "17aa87b2",
   "metadata": {},
   "source": [
    "操作的步骤分为5步：\n",
    "\n",
    "<br/>1.以读方式打开文件及读取文件内容赋给变量s\n",
    "<br/>f=open('文件路径文件名','r')    #以只读方式打开文件\n",
    "<br/>s=f.read()   \n",
    "<br/>2.将文件里的内容按行读出并放到列表sh里\n",
    "<br/>shlist=list(s.split('\\n'))        #以行为单位分割数据\n",
    "<br/>sh=[]\n",
    "<br/>for i in shlist:\n",
    "<br/>    sh.append(list(i.split(',')))   #行内的数据再以\",\"进行分割（为后续查询做准备）  \n",
    "<br/>3.进行查找：\n",
    "<br/>for n in range(1,len(sh)-1):  #range(1,len(sh)-1)迭代器的七时至和终止值跟文件里是否有字段，有则从1开始，没有则从0开始；终止看末尾是否有空行，有则len(sh)-1，没则len(sh)\n",
    "\n",
    "      查找的内容 \n",
    "      \n",
    "<br/>4.输出查找的结果：\n",
    "<br/>print(\"\") #按要求打印输出\n",
    "\n",
    "<br/>5.关闭文件\n",
    "<br/>f.close()"
   ]
  },
  {
   "cell_type": "code",
   "execution_count": 1,
   "id": "a6126360",
   "metadata": {},
   "outputs": [
    {
     "name": "stdout",
     "output_type": "stream",
     "text": [
      "在该时间和维度条件出现的车辆有：\n",
      "时间：2:00车牌号：沪NX2820北纬：31.3106870000东经：121.2478700000\n",
      "时间：2:00车牌号：沪NX2593北纬：31.3037140000东经：121.3286180000\n",
      "时间：2:00车牌号：沪NX7730北纬：31.3080970000东经：121.2389760000\n",
      "时间：2:00车牌号：沪NX9279北纬：31.3012770000东经：121.3209020000\n"
     ]
    }
   ],
   "source": [
    "#第一题答案\n",
    "\n",
    "# 第一步以读方式打开文件及读取文件内容赋给变量s\n",
    "f=open('./data/car_data.txt','r')\n",
    "s=f.read()\n",
    "#print(s)查看读取文件内容\n",
    "\n",
    "#第二步将文件里的内容按行读出并放到列表sh里\n",
    "shlist=s.split('\\n')        \n",
    "sh=[]\n",
    "for i in shlist:\n",
    "    sh.append(list(i.split(',')))#行内的数据再以\",\"进行分割（为后续查询做准备）\n",
    "#print(sh)查看经过行和行内分割后生成的列表的内容\n",
    "# 第三步对生成的列表进行查找（查找时注意：列表里的元素还是列表），最后输出查询的结果。\n",
    "\n",
    "print(\"在该时间和维度条件出现的车辆有：\") #输出最后结果的一部分要求 \n",
    "for n in range(len(sh)):\n",
    "    if sh[n][0]==\"2:00\" and float(sh[n][2])>=31.3:\n",
    "             print('时间：%s车牌号：%s北纬：%s东经：%s'%(sh[n][0],sh[n][1],sh[n][2],sh[n][3])) #  第四步输出查找的结果 \n",
    "f.close()"
   ]
  },
  {
   "cell_type": "markdown",
   "id": "312f57ab",
   "metadata": {},
   "source": [
    "###  二、\n",
    "“素材文件夹中的car_data.txt”文件是以英文逗号分隔的数据文本文件（文件局部如下图所示），记录了某出租汽车公司部分车辆某日0：00~23：00的车辆位置，无标题行。对应列分别是时间、车牌号、北纬、东经。\n",
    "<img src=\"./images/tu30.png\" align=\"center\" width=\"400\"/>\n",
    "因协助查找该日发生在北纬31.2222-31.2333，东经121.45-121.55区域内的案件，请编写程序，找到并打印位于该区域内该出租车公司的车辆信息。运行结果如下图所示。\n",
    "<img src=\"./images/tu32.jpg\" align=\"center\" width=\"400\"/>\n",
    "\n",
    "\n"
   ]
  },
  {
   "cell_type": "code",
   "execution_count": null,
   "id": "912b194c",
   "metadata": {},
   "outputs": [],
   "source": []
  },
  {
   "cell_type": "markdown",
   "id": "6dc6861f",
   "metadata": {},
   "source": [
    "### 三、\n",
    "“素材文件夹中的上证指数.txt”文件是以英文逗号分隔的自1991年至2019年上证指数的数据文本文件（文件局部如下图所示），对应列见标题行。\n",
    "<img src=\"./images/tu33.jpg\" align=\"center\" width=\"400\"/>\n",
    "请编写程序，找到并打印上证指数收盘价最高点的日期和收盘价（保留一位小数）信息。运行结果下图所示。由于数据量较大，程序运行可能稍慢，运行时请耐心等待。\n",
    " <img src=\"./images/tu34.jpg\" align=\"center\" width=\"400\"/>"
   ]
  },
  {
   "cell_type": "code",
   "execution_count": 3,
   "id": "d6fca0db",
   "metadata": {},
   "outputs": [
    {
     "name": "stdout",
     "output_type": "stream",
     "text": [
      "2007/10/16上证指数收盘最高点记录为6092.1\n"
     ]
    }
   ],
   "source": [
    "# 第一步以读方式打开文件及读取文件内容赋给变量s\n",
    "f=open('./data/上证指数.txt','r')\n",
    "s=f.read()\n",
    "#第二步将文件里的内容按行读出并放到列表sh里\n",
    "shlist=list(s.split('\\n'))        #以行为单位分割数据\n",
    "sh=[]\n",
    "for i in shlist:\n",
    "    sh.append(list(i.split(',')))#行内的数据再以\",\"进行分割（为后续查询做准备）\n",
    "    \n",
    "# 第三步对生成的列表进行查找（查找时注意：列表里的元素还是列表），最后输出查询的结果。\n",
    "\n",
    "max=0\n",
    "for n in range(1,len(sh)-1):  #注意迭代器range的起始值，终止值和步长的意义\n",
    "    if (float(sh[n][3])>max):\n",
    "        max=float(sh[n][3])\n",
    "        mdate=sh[n][0] \n",
    "        \n",
    "print('%s上证指数收盘最高点记录为%0.1f'%(mdate,max))  #print('{}上证指数收盘最高点记录为{:0.1f}'.format(mdate,max))\n",
    "f.close() #关闭文件"
   ]
  },
  {
   "cell_type": "code",
   "execution_count": null,
   "id": "5b04888f",
   "metadata": {},
   "outputs": [],
   "source": [
    "f=open('./data/上证指数.txt','r')\n",
    "s=f.read()\n",
    "\n",
    "shlist=s.split('\\n')        #以行为单位分割数据\n",
    "sh=[]\n",
    "for i in shlist:\n",
    "    sh.append(list(i.split(',')))#行内的数据再以\",\"进行分割（为后续查询做准备）\n",
    "\n",
    "max=0\n",
    "           #填空（使用列表的方法删除列表的第一个数据值）\n",
    "for n in range(   ):    #填写迭代器range里的整数值\n",
    "    if (float(sh[n][3])>max):\n",
    "        max=float(sh[n][3])\n",
    "        mdate=sh[n][0] \n",
    "        \n",
    "print('{}上证指数收盘最高点记录为{:0.1f}'.format(mdate,max))\n",
    "f.close() #关闭文件"
   ]
  },
  {
   "cell_type": "markdown",
   "id": "c311ab07",
   "metadata": {},
   "source": [
    "### 四、\n",
    "“素材文件夹中的上证指数.txt”文件是以英文逗号分隔的1991年至2019年上证指数的数据文本文件（文件局部如下图所示），对应列见标题行。\n",
    "<img src=\"./images/tu33.jpg\" align=\"center\" width=\"400\"/>\n",
    "请编写程序，找到并打印上证指数成交量最高点的日期和成交量信息。运行结果下图所示。由于数据量较大，程序运行可能稍慢，运行时请耐心等待。\n",
    "<img src=\"./images/tu35.png\" align=\"center\" width=\"400\"/>\n"
   ]
  },
  {
   "cell_type": "code",
   "execution_count": null,
   "id": "96dd2bd7",
   "metadata": {},
   "outputs": [],
   "source": []
  },
  {
   "cell_type": "markdown",
   "id": "a41a2554",
   "metadata": {},
   "source": [
    "### 五、\n",
    " 流行病学通常关注单日治愈患者例数增长（即当日治愈例数减去前日治愈例数），并以单日治愈患者例数最高增长点作为疫情向好发展的标志点。“素材文件中的covid19jiangsu.txt”文件是以逗号分隔的2020年1月22日至3月22日江苏省发生新冠肺炎疫情变化数据文本文件（如下图所示，提示：已按日期递增排序，有标题行）\n",
    " <img src=\"./images/tu36.jpg\" align=\"center\" width=\"400\"/>\n",
    "请编写程序，找出单日治愈例数增长最高日期，若有并列最高增长日，则选择并列的最后一日。 运行结果如下图所示，按图示的格式输出结果。\n",
    "<img src=\"./images/tu37.jpg\" align=\"center\" width=\"400\"/>"
   ]
  },
  {
   "cell_type": "code",
   "execution_count": null,
   "id": "448b149b",
   "metadata": {},
   "outputs": [],
   "source": []
  },
  {
   "cell_type": "markdown",
   "id": "c80698bf",
   "metadata": {},
   "source": [
    "### 五、\n",
    "“素材文件夹中的BP.txt”是以逗号分隔的日期、血压、心率记录数据文本文件（局部如下图所示）\n",
    " <img src=\"./images/tu38.jpg\" align=\"center\" width=\"300\"/>\n",
    "请找出并打印收缩压＜140而心率＞75的记录，并统计收缩压的总平均值（保留3位小数）。运行结果（局部）如图所示。\n",
    "<img src=\"./images/tu39.jpg\" align=\"center\" width=\"400\"/>"
   ]
  },
  {
   "cell_type": "code",
   "execution_count": null,
   "id": "cff4a850",
   "metadata": {},
   "outputs": [],
   "source": []
  },
  {
   "cell_type": "markdown",
   "id": "2a3dbc00",
   "metadata": {},
   "source": [
    "### 七、\n",
    "“素材文件夹中的pyt.csv文件是以英文逗号分隔的某段时间视频的播放量（单位：万次）数据文本文件（文件局部如下图所示，有标题行），对应列见标题行。\n",
    " <img src=\"./images/tu40.jpg\" align=\"center\" width=\"400\"/>\n",
    "请编写程序，找到并打印播放量最高的标题和播放量。运行结果下图所示。\n",
    "<img src=\"./images/tu41.jpg\" align=\"center\" width=\"400\"/>"
   ]
  },
  {
   "cell_type": "code",
   "execution_count": null,
   "id": "f9b6223e",
   "metadata": {},
   "outputs": [],
   "source": []
  },
  {
   "cell_type": "markdown",
   "id": "7bf9e8f9",
   "metadata": {},
   "source": []
  },
  {
   "cell_type": "markdown",
   "id": "f572c593",
   "metadata": {},
   "source": [
    "### 八、\n",
    "”素材文件夹中的pyt.csv文件是以英文逗号分隔的某段时间视频的弹幕数(单位：万条)数据文本文件（文件局部如图所示，有标题行），对应列见标题行。\n",
    " <img src=\"./images/tu40.jpg\" align=\"center\" width=\"400\"/>\n",
    "请编写程序，找到并打印弹幕数最高的标题和弹幕数量。运行结果下图所示。\n",
    "<img src=\"./images/tu42.jpg\" align=\"center\" width=\"400\"/>"
   ]
  },
  {
   "cell_type": "code",
   "execution_count": null,
   "id": "eb136efc",
   "metadata": {},
   "outputs": [],
   "source": []
  },
  {
   "cell_type": "markdown",
   "id": "0371e92a",
   "metadata": {},
   "source": [
    "### 九、\n",
    "“素材文件夹中的flight.csv”是以逗号分隔的文本文件，存储了某国际航班的旅客信息，项目见标题行，包括PassengerId（旅客号）、Name（姓名）、Sex（性别）、Age（年龄）、Ticket（票号）、Seat（座位）。打开文件局部如下图所示：\n",
    " <img src=\"./images/tu43.jpg\" align=\"center\" width=\"400\"/>\n",
    "因该航班发现新冠核酸检测阳性乘客，请编写程序，统计该航班高危感染人群50岁以上男、女乘客的人数。\n",
    "<img src=\"./images/tu44.jpg\" align=\"center\" width=\"400\"/>"
   ]
  },
  {
   "cell_type": "code",
   "execution_count": null,
   "id": "ba6c04ca",
   "metadata": {},
   "outputs": [],
   "source": []
  },
  {
   "cell_type": "code",
   "execution_count": null,
   "id": "2e47e032",
   "metadata": {},
   "outputs": [],
   "source": []
  },
  {
   "cell_type": "markdown",
   "id": "cf81b154",
   "metadata": {},
   "source": []
  },
  {
   "cell_type": "code",
   "execution_count": null,
   "id": "b5467c69",
   "metadata": {},
   "outputs": [],
   "source": []
  },
  {
   "cell_type": "code",
   "execution_count": null,
   "id": "7c115b84",
   "metadata": {},
   "outputs": [],
   "source": []
  }
 ],
 "metadata": {
  "kernelspec": {
   "display_name": "Python 3 (ipykernel)",
   "language": "python",
   "name": "python3"
  },
  "language_info": {
   "codemirror_mode": {
    "name": "ipython",
    "version": 3
   },
   "file_extension": ".py",
   "mimetype": "text/x-python",
   "name": "python",
   "nbconvert_exporter": "python",
   "pygments_lexer": "ipython3",
   "version": "3.9.13"
  }
 },
 "nbformat": 4,
 "nbformat_minor": 5
}
