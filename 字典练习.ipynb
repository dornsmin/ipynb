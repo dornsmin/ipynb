{
 "cells": [
  {
   "cell_type": "markdown",
   "id": "4bbb52ec",
   "metadata": {},
   "source": [
    "<div class=\"alert alert-success alertsuccess\" style=\"margin-top:0px\">\n",
    "    <h2><a name=\"Chapter3.10\" style=\"color:#3C763D\">第九节课 Python Dictionary – Create, Append, Update, Remove</a></h2><br/>\n",
    "    字典是Python中最重要的数据结构，是不定数量的键值对集合，其中键和值都是不同类型的Python对象。\n",
    "    <br/>左右两个花括号是字典的明显特征。\n",
    "    <br/>A dictionary in Python is a scrambled collection of objects. Unlike other data types such as a list or a set which has a single value field, the dictionary type stores a key along with its value.\n",
    "\n",
    "<br/>The keys pair with values using a colon (:) while the commas work as a separator for the elements. Also, the entire dictionary object uses curly braces to enclose itself.\n",
    "</div>\n"
   ]
  },
  {
   "cell_type": "markdown",
   "id": "00348467",
   "metadata": {},
   "source": [
    "###  ❖ 字典的创建Dictionary – Create\n",
    "\n",
    "#### ➣ 显示创建，语法：{key1 : value1 ... keyN : valueN}"
   ]
  },
  {
   "cell_type": "code",
   "execution_count": 20,
   "id": "b5cbff93",
   "metadata": {},
   "outputs": [
    {
     "name": "stdout",
     "output_type": "stream",
     "text": [
      "{2: 4, 3: 5, 4: 6}\n"
     ]
    }
   ],
   "source": [
    "dict0={2:4,3:5,4:6}#键可以是整型、字符型、元组。保证可哈希。\n",
    "print(dict0)"
   ]
  },
  {
   "cell_type": "markdown",
   "id": "2e55845a",
   "metadata": {},
   "source": [
    "#### ➣ 用列表创建"
   ]
  },
  {
   "cell_type": "code",
   "execution_count": 19,
   "id": "e203ec74",
   "metadata": {
    "scrolled": true
   },
   "outputs": [
    {
     "name": "stdout",
     "output_type": "stream",
     "text": [
      "{2: 4, 4: 16, 6: 36, 8: 64}\n",
      "{'sun': 0, 'mon': 1, 'tue': 2, 'wed': 3, 'thu': 4, 'fri': 5, 'sat': 6}\n",
      "{0: 'sun', 1: 'mon', 2: 'tue', 3: 'wed', 4: 'thu', 5: 'fri', 6: 'sat'}\n"
     ]
    }
   ],
   "source": [
    "dict1={x:x**2 for x in [2,4,6,8]}\n",
    "print(dict01)\n",
    "weekdays = ['sun', 'mon', 'tue', 'wed', 'thu', 'fri', 'sat']\n",
    "#以weekdays列表中的字符为键，以字符的位置序号为键值建立字典dict2\n",
    "dict3={v:u for u,v in enumerate(weekdays)}\n",
    "print(dict3)\n",
    "#index（）方法建立\n",
    "dict2={weekdays.index(u) : u for u in weekdays}\n",
    "print(dict2)"
   ]
  },
  {
   "cell_type": "markdown",
   "id": "b06ae100",
   "metadata": {},
   "source": [
    "### ❖课堂练习\n",
    "<br/>1.以列表[11,232,3334333,444454444,55555655555]中的每个元素中数字个数作为键，对应元素作为键值建立字典dict01为{2: '11', 3: '232', 7: '3334333', 9: '444454444', 11: '55555655555'}\n",
    "<br/>2.已知列表weekdays = ['sun', 'mon', 'tue', 'wed', 'thu', 'fri', 'sat']现要求以weekdays列表中字符位置索引为键，以字符为键值建立字典dict02={0: 'sun', 1: 'mon', 2: 'tue', 3: 'wed', 4: 'thu', 5: 'fri', 6: 'sat'}"
   ]
  },
  {
   "cell_type": "markdown",
   "id": "e4db319b",
   "metadata": {},
   "source": [
    "### ❖ 字典键值对的取值和增删改\n",
    "\n",
    "#### ➣ 取值，语法：字典名[键] \n",
    "#### ➣ 赋值，语法：字典名[键] = 值（如果字典中存在该键，则修改该键的值；如果不存在，则创建此键值对）\n",
    "<br/>也可以通过setdefault函数进行键值增加或修改，语法：字典名.setdefault(键, 默认值)，如果字典中包含有给定键，则返回该键对应的值，否则返回为该键设置的值。\n",
    "#### ➣ 字典键值对的删除，语法：del 字典名[键]"
   ]
  },
  {
   "cell_type": "code",
   "execution_count": 26,
   "id": "8b948862",
   "metadata": {},
   "outputs": [
    {
     "name": "stdout",
     "output_type": "stream",
     "text": [
      "0\n",
      "sun\n",
      "{1: 'mon', 2: 'tue', 3: 'wed', 4: 'thu', 5: 'fri', 6: 'sat', 7: 'sun'}\n"
     ]
    }
   ],
   "source": [
    "dict02={0: 'sun', 1: 'mon', 2: 'tue', 3: 'wed', 4: 'thu', 5: 'fri', 6: 'sat'}\n",
    "dict02[0]=0\n",
    "print(dict02[0])\n",
    "print(dict02.get(7,\"sun\"))\n",
    "dict02.setdefault(7,\"sun\")\n",
    "del dict02[0]\n",
    "print(dict02)"
   ]
  },
  {
   "cell_type": "markdown",
   "id": "ab10012d",
   "metadata": {},
   "source": [
    "#### ➣ 合并两个字典的键值对"
   ]
  },
  {
   "cell_type": "code",
   "execution_count": 27,
   "id": "9e5045a5",
   "metadata": {},
   "outputs": [
    {
     "data": {
      "text/plain": [
       "{'a': 1, 'b': 2, 'c': 3, 'd': 4}"
      ]
     },
     "execution_count": 27,
     "metadata": {},
     "output_type": "execute_result"
    }
   ],
   "source": [
    "dic1 = {'a':1, 'b':2}\n",
    "dic1.update({'c':3, 'd':4})\n",
    "dic1"
   ]
  },
  {
   "cell_type": "markdown",
   "id": "b2611667",
   "metadata": {},
   "source": [
    "### ❖ 字典的遍历\n",
    "\n",
    "#### ➣ 遍历键\n",
    "#### ➣ 遍历值\n",
    "#### ➣ 遍历键值对"
   ]
  },
  {
   "cell_type": "markdown",
   "id": "61b98582",
   "metadata": {},
   "source": [
    "#### <font color=\"red\">课后作业</font>\n",
    "用户从接口中获取了一个字符串片段：\"John,M,23,孙女士,女,31,刘先生,男,41\"，有序地包含了3个用户的身份信息，请将每个用户的信息构造成字典。字典的格式为“字典{'姓名':'xxx','性别':'<男/女>','年龄':<整型数字>}”。 \n",
    "\n"
   ]
  },
  {
   "cell_type": "code",
   "execution_count": 28,
   "id": "107d95c9",
   "metadata": {},
   "outputs": [
    {
     "name": "stdout",
     "output_type": "stream",
     "text": [
      "学号\t数学\t物理\t化学\t等级\n",
      "st101\t75\t70\t92\t\n",
      "st102\t94\t81\t93\t双优\n",
      "st103\t82\t96\t67\t\n",
      "st104\t93\t80\t88\t\n",
      "st105\t72\t80\t52\t\n",
      "st106\t78\t84\t75\t\n",
      "st107\t99\t95\t98\t全优\n",
      "st108\t69\t50\t78\t\n",
      "st109\t89\t65\t90\t\n",
      "st110\t97\t92\t92\t全优\n"
     ]
    }
   ],
   "source": [
    "# 1. 字典dict是10位学生的成绩数据。键为学生的学号，值为数理化成绩的元组。程序以制表位分隔打印输出全部学生数据，并对两门90分（含）以上者提示 \"双优\"， 三门90分（含）以上者提示 \"全优\"，如下图所示 。由于字典的无序特性，打印出的顺序可能与样图不一致。\n",
    "\n",
    " \n",
    "dict={\"st101\":(75,70,92),\n",
    "\"st102\":(94,81,93),\n",
    "\"st103\":(82,96,67),\n",
    "\"st104\":(93,80,88),\n",
    "\"st105\":(72,80,52),\n",
    "\"st106\":(78,84,75),\n",
    "\"st107\":(99,95,98),\n",
    "\"st108\":(69,50,78),\n",
    "\"st109\":(89,65,90),\n",
    "\"st110\":(97,92,92)\n",
    "}\n",
    "print('学号\\t数学\\t物理\\t化学\\t等级')\n",
    "for st in dict:\n",
    "    stnum,score1,score2,score3=st,dict[st][0],dict[st][1],dict[st][2] \n",
    "    flag=(score1>=90)+(score2>=90)+(score3>=90)\n",
    "    if flag==3:\n",
    "        grade='全优'\n",
    "    elif flag==2:\n",
    "        grade='双优'\n",
    "    else:\n",
    "        grade=''\n",
    "    print(\"{}\\t{}\\t{}\\t{}\\t{}\".format(stnum,score1,score2,score3,grade))   \n",
    "\n",
    "\n"
   ]
  },
  {
   "cell_type": "code",
   "execution_count": 1,
   "id": "ad0641ea",
   "metadata": {},
   "outputs": [
    {
     "name": "stdout",
     "output_type": "stream",
     "text": [
      "昔人已乘黄鹤___\n",
      "此地空余___鹤楼\n",
      "黄鹤一去不复___\n",
      "___云千载空悠悠\n",
      "晴川历历汉___树\n",
      "芳___萋萋鹦鹉洲\n",
      "日暮___关何处是\n",
      "烟波江___使人愁\n",
      "{'昔人已乘黄鹤去': '去', '此地空余黄鹤楼': '黄', '黄鹤一去不复返': '返', '白云千载空悠悠': '白', '晴川历历汉阳树': '阳', '芳草萋萋鹦鹉洲': '草', '日暮乡关何处是': '乡', '烟波江上使人愁': '上'}\n",
      "请输入答案用逗号分隔\n",
      "ee \n",
      "您得了0.0分\n"
     ]
    }
   ],
   "source": [
    "#编写程序的功能是生成诗词填空题目，并完成诗词填空的阅卷功能。要求阅卷时只要填写正确的空就给分\n",
    "import random #导入随机模块\n",
    "poetry = [\"昔人已乘黄鹤去\",\"此地空余黄鹤楼\",\"黄鹤一去不复返\",\"白云千载空悠悠\",\"晴川历历汉阳树\",\"芳草萋萋鹦鹉洲\",\"日暮乡关何处是\",\"烟波江上使人愁\"] #用列表定义诗\n",
    "dict1={}\n",
    "answer=[]\n",
    "#生成填空题的填空位置\n",
    "for i in poetry:\n",
    "    tmp = random.randint(0, (len(i)-1))                #生成一个0到6之间的随机整数\n",
    "    if i[tmp] in i:\n",
    "        print(i.replace(i[tmp],\"___\"))              #在该汉字的位置打印下划线\n",
    "        dict1[i]=i[tmp]\n",
    "        #for j in dict1:\n",
    "            #if j not in answer:\n",
    "               # answer.append(j)\n",
    "print(dict1)\n",
    "#输入答案\n",
    "data = input(\"请输入答案用逗号分隔\\n\")  #接受用户输入字符串\n",
    "data = data.replace(\"，\", \",\").split(\",\")      #将中文逗号替换为英文逗号\n",
    "#根据输入的答案计算总成绩\n",
    "score = 0.0\n",
    "for i in data:\n",
    "    for j in dict1:\n",
    "        if dict1[j]==i:\n",
    "            score+=100/len(poetry)                          #计算学生分数，每题12.5分\n",
    "print(\"您得了%s分\"%score)"
   ]
  },
  {
   "cell_type": "markdown",
   "id": "7537eb1a",
   "metadata": {},
   "source": []
  },
  {
   "cell_type": "code",
   "execution_count": null,
   "id": "be209e1c",
   "metadata": {},
   "outputs": [],
   "source": []
  },
  {
   "cell_type": "code",
   "execution_count": null,
   "id": "cb2ab6c4",
   "metadata": {},
   "outputs": [],
   "source": []
  }
 ],
 "metadata": {
  "kernelspec": {
   "display_name": "Python 3 (ipykernel)",
   "language": "python",
   "name": "python3"
  },
  "language_info": {
   "codemirror_mode": {
    "name": "ipython",
    "version": 3
   },
   "file_extension": ".py",
   "mimetype": "text/x-python",
   "name": "python",
   "nbconvert_exporter": "python",
   "pygments_lexer": "ipython3",
   "version": "3.9.13"
  }
 },
 "nbformat": 4,
 "nbformat_minor": 5
}
