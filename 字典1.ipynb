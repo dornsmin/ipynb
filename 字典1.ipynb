{
 "cells": [
  {
   "cell_type": "markdown",
   "metadata": {},
   "source": [
    "<div class=\"alert alert-success alertsuccess\" style=\"margin-top:0px\">\n",
    "    <h2><a name=\"Chapter3.10\" style=\"color:#3C763D\">第九节课 Python Dictionary – Create, Append, Update, Remove</a></h2><br/>\n",
    "    字典是Python中最重要的数据结构，是不定数量的键值对集合，其中键和值都是不同类型的Python对象。\n",
    "    <br/>左右两个花括号是字典的明显特征。\n",
    "    <br/>A dictionary in Python is a scrambled collection of objects. Unlike other data types such as a list or a set which has a single value field, the dictionary type stores a key along with its value.\n",
    "\n",
    "<br/>The keys pair with values using a colon (:) while the commas work as a separator for the elements. Also, the entire dictionary object uses curly braces to enclose itself.\n",
    "</div>\n"
   ]
  },
  {
   "cell_type": "markdown",
   "metadata": {},
   "source": [
    "###  ❖ 字典的创建Dictionary – Create\n",
    "\n",
    "#### ➣ 显示创建，语法：{key1 : value1 ... keyN : valueN}"
   ]
  },
  {
   "cell_type": "code",
   "execution_count": 20,
   "metadata": {},
   "outputs": [
    {
     "name": "stdout",
     "output_type": "stream",
     "text": [
      "{2: 4, 3: 5, 4: 6}\n"
     ]
    }
   ],
   "source": [
    "dict0={2:4,3:5,4:6}#键可以是整型、字符型、元组。保证可哈希。\n",
    "print(dict0)"
   ]
  },
  {
   "cell_type": "markdown",
   "metadata": {},
   "source": [
    "#### ➣ 用列表创建"
   ]
  },
  {
   "cell_type": "code",
   "execution_count": 19,
   "metadata": {
    "scrolled": true
   },
   "outputs": [
    {
     "name": "stdout",
     "output_type": "stream",
     "text": [
      "{2: 4, 4: 16, 6: 36, 8: 64}\n",
      "{'sun': 0, 'mon': 1, 'tue': 2, 'wed': 3, 'thu': 4, 'fri': 5, 'sat': 6}\n",
      "{0: 'sun', 1: 'mon', 2: 'tue', 3: 'wed', 4: 'thu', 5: 'fri', 6: 'sat'}\n"
     ]
    }
   ],
   "source": [
    "dict1={x:x**2 for x in [2,4,6,8]}\n",
    "print(dict01)\n",
    "weekdays = ['sun', 'mon', 'tue', 'wed', 'thu', 'fri', 'sat']\n",
    "#以weekdays列表中的字符为键，以字符的位置序号为键值建立字典dict2\n",
    "dict3={v:u for u,v in enumerate(weekdays)}\n",
    "print(dict3)\n",
    "#index（）方法建立\n",
    "dict2={weekdays.index(u) : u for u in weekdays}\n",
    "print(dict2)"
   ]
  },
  {
   "cell_type": "markdown",
   "metadata": {},
   "source": [
    "### ❖课堂练习\n",
    "<br/>1.以列表[11,232,3334333,444454444,55555655555]中的每个元素中数字个数作为键，对应元素作为键值建立字典dict01为{2: '11', 3: '232', 7: '3334333', 9: '444454444', 11: '55555655555'}\n",
    "<br/>2.已知列表weekdays = ['sun', 'mon', 'tue', 'wed', 'thu', 'fri', 'sat']现要求以weekdays列表中字符位置索引为键，以字符为键值建立字典dict02={0: 'sun', 1: 'mon', 2: 'tue', 3: 'wed', 4: 'thu', 5: 'fri', 6: 'sat'}"
   ]
  },
  {
   "cell_type": "markdown",
   "metadata": {},
   "source": [
    "### ❖ 字典键值对的取值和增删改\n",
    "\n",
    "#### ➣ 取值，语法：字典名[键] \n",
    "#### ➣ 赋值，语法：字典名[键] = 值（如果字典中存在该键，则修改该键的值；如果不存在，则创建此键值对）\n",
    "<br/>也可以通过setdefault函数进行键值增加或修改，语法：字典名.setdefault(键, 默认值)，如果字典中包含有给定键，则返回该键对应的值，否则返回为该键设置的值。\n",
    "#### ➣ 字典键值对的删除，语法：del 字典名[键]"
   ]
  },
  {
   "cell_type": "code",
   "execution_count": 26,
   "metadata": {},
   "outputs": [
    {
     "name": "stdout",
     "output_type": "stream",
     "text": [
      "0\n",
      "sun\n",
      "{1: 'mon', 2: 'tue', 3: 'wed', 4: 'thu', 5: 'fri', 6: 'sat', 7: 'sun'}\n"
     ]
    }
   ],
   "source": [
    "dict02={0: 'sun', 1: 'mon', 2: 'tue', 3: 'wed', 4: 'thu', 5: 'fri', 6: 'sat'}\n",
    "dict02[0]=0\n",
    "print(dict02[0])\n",
    "print(dict02.get(7,\"sun\"))\n",
    "dict02.setdefault(7,\"sun\")\n",
    "del dict02[0]\n",
    "print(dict02)"
   ]
  },
  {
   "cell_type": "markdown",
   "metadata": {},
   "source": [
    "#### ➣ 合并两个字典的键值对"
   ]
  },
  {
   "cell_type": "code",
   "execution_count": 27,
   "metadata": {},
   "outputs": [
    {
     "data": {
      "text/plain": [
       "{'a': 1, 'b': 2, 'c': 3, 'd': 4}"
      ]
     },
     "execution_count": 27,
     "metadata": {},
     "output_type": "execute_result"
    }
   ],
   "source": [
    "dic1 = {'a':1, 'b':2}\n",
    "dic1.update({'c':3, 'd':4})\n",
    "dic1"
   ]
  },
  {
   "cell_type": "markdown",
   "metadata": {},
   "source": [
    "### ❖ 字典的遍历\n",
    "#### ➣ 遍历键:for i in 字典名：或for i in 字典名.keys()"
   ]
  },
  {
   "cell_type": "code",
   "execution_count": 34,
   "metadata": {},
   "outputs": [
    {
     "name": "stdout",
     "output_type": "stream",
     "text": [
      "0 1 2 3 4 5 6 \n",
      "================\n",
      "0 1 2 3 4 5 6 "
     ]
    }
   ],
   "source": [
    "dict02={0: 'sun', 1: 'mon', 2: 'tue', 3: 'wed', 4: 'thu', 5: 'fri', 6: 'sat'}\n",
    "for i in dict02:\n",
    "    print(i,end=\" \")\n",
    "print(\"\\n================\")\n",
    "for i in dict02.keys():\n",
    "    print(i,end=\" \")"
   ]
  },
  {
   "cell_type": "markdown",
   "metadata": {},
   "source": [
    "### ❖ 字典的遍历\n",
    "#### ➣ 遍历值"
   ]
  },
  {
   "cell_type": "code",
   "execution_count": 36,
   "metadata": {},
   "outputs": [
    {
     "name": "stdout",
     "output_type": "stream",
     "text": [
      "sun mon tue wed thu fri sat "
     ]
    }
   ],
   "source": [
    "dict02={0: 'sun', 1: 'mon', 2: 'tue', 3: 'wed', 4: 'thu', 5: 'fri', 6: 'sat'}\n",
    "for i in dict02.values():\n",
    "    print(i,end=\" \")"
   ]
  },
  {
   "cell_type": "markdown",
   "metadata": {},
   "source": [
    "### ❖ 字典的遍历\n",
    "#### ➣ 遍历键值对"
   ]
  },
  {
   "cell_type": "code",
   "execution_count": 37,
   "metadata": {},
   "outputs": [
    {
     "name": "stdout",
     "output_type": "stream",
     "text": [
      "0 sun  1 mon  2 tue  3 wed  4 thu  5 fri  6 sat  "
     ]
    }
   ],
   "source": [
    "dict02={0: 'sun', 1: 'mon', 2: 'tue', 3: 'wed', 4: 'thu', 5: 'fri', 6: 'sat'}\n",
    "for i,j in dict02.items():\n",
    "    print(i,j,end=\"  \")\n",
    "    "
   ]
  },
  {
   "cell_type": "markdown",
   "metadata": {},
   "source": [
    "#### <font color=\"red\">课后作业1</font>\n",
    "#### 1. 字典dict是10位学生的成绩数据。键为学生的学号，值为数理化成绩的元组。程序以制表位分隔打印输出全部学生数据，并对两门90分（含）以上者提示 \"双优\"， 三门90分（含）以上者提示 \"全优\"，如下图所示 。由于字典的无序特性，打印出的顺序可能与样图不一致。\n",
    "<img src=\"./images/zd_1.png\" align=\"center\" width=\"300\"/>\n",
    " "
   ]
  },
  {
   "cell_type": "code",
   "execution_count": 29,
   "metadata": {},
   "outputs": [],
   "source": [
    "\n",
    "dict={\"st101\":(75,70,92),\n",
    "\"st102\":(94,81,93),\n",
    "\"st103\":(82,96,67),\n",
    "\"st104\":(93,80,88),\n",
    "\"st105\":(72,80,52),\n",
    "\"st106\":(78,84,75),\n",
    "\"st107\":(99,95,98),\n",
    "\"st108\":(69,50,78),\n",
    "\"st109\":(89,65,90),\n",
    "\"st110\":(97,92,92)\n",
    "}\n",
    "\n",
    "\n"
   ]
  },
  {
   "cell_type": "markdown",
   "metadata": {},
   "source": [
    "#### <font color=\"red\">课后作业2</font>\n",
    "已知message =“It is a bright cold day in April, and he is a student,he is very cold”，统计message 变量里的各单词出现的次数，将统计的结果放到字典里（单词）作为键，个数作为键值），参考ppt里统计字母出现的个数程序"
   ]
  },
  {
   "cell_type": "code",
   "execution_count": 26,
   "metadata": {},
   "outputs": [
    {
     "name": "stdout",
     "output_type": "stream",
     "text": [
      "昔___已乘黄鹤去\n",
      "此地___余黄鹤楼\n",
      "___鹤一去不复返\n",
      "___云千载空悠悠\n",
      "晴___历历汉阳树\n",
      "芳草萋萋___鹉洲\n",
      "日暮乡___何处是\n",
      "___波江上使人愁\n",
      "{'昔人已乘黄鹤去': '人', '此地空余黄鹤楼': '空', '黄鹤一去不复返': '黄', '白云千载空悠悠': '白', '晴川历历汉阳树': '川', '芳草萋萋鹦鹉洲': '鹦', '日暮乡关何处是': '关', '烟波江上使人愁': '烟'}\n",
      "请输入答案用逗号分隔\n",
      "人，里，空，烟\n",
      "您得了37.5分\n"
     ]
    }
   ],
   "source": [
    "#编写程序的功能是生成诗词填空题目，并完成诗词填空的阅卷功能。要求阅卷时只要填写正确的空就给分\n",
    "import random #导入随机模块\n",
    "poetry = [\"昔人已乘黄鹤去\",\"此地空余黄鹤楼\",\"黄鹤一去不复返\",\"白云千载空悠悠\",\"晴川历历汉阳树\",\"芳草萋萋鹦鹉洲\",\"日暮乡关何处是\",\"烟波江上使人愁\"] #用列表定义诗\n",
    "dict1={}\n",
    "answer=[]\n",
    "#生成填空题的填空位置\n",
    "for i in poetry:\n",
    "    tmp = random.randint(0, (len(i)-1))                #生成一个0到6之间的随机整数\n",
    "    if i[tmp] in i:\n",
    "        print(i.replace(i[tmp],\"___\"))              #在该汉字的位置打印下划线\n",
    "        dict1[i]=i[tmp]\n",
    "        #for j in dict1:\n",
    "            #if j not in answer:\n",
    "               # answer.append(j)\n",
    "print(dict1)\n",
    "#输入答案\n",
    "data = input(\"请输入答案用逗号分隔\\n\")  #接受用户输入字符串\n",
    "data = data.replace(\"，\", \",\").split(\",\")      #将中文逗号替换为英文逗号\n",
    "#根据输入的答案计算总成绩\n",
    "score = 0.0\n",
    "for i in data:\n",
    "    for j in dict1:\n",
    "        if dict1[j]==i:\n",
    "            score+=100/len(poetry)                          #计算学生分数，每题12.5分\n",
    "print(\"您得了%s分\"%score)"
   ]
  },
  {
   "cell_type": "code",
   "execution_count": null,
   "metadata": {},
   "outputs": [],
   "source": []
  },
  {
   "cell_type": "code",
   "execution_count": null,
   "metadata": {},
   "outputs": [],
   "source": []
  },
  {
   "cell_type": "code",
   "execution_count": null,
   "metadata": {},
   "outputs": [],
   "source": []
  }
 ],
 "metadata": {
  "kernelspec": {
   "display_name": "Python 3",
   "language": "python",
   "name": "python3"
  },
  "language_info": {
   "codemirror_mode": {
    "name": "ipython",
    "version": 3
   },
   "file_extension": ".py",
   "mimetype": "text/x-python",
   "name": "python",
   "nbconvert_exporter": "python",
   "pygments_lexer": "ipython3",
   "version": "3.7.0"
  }
 },
 "nbformat": 4,
 "nbformat_minor": 5
}
