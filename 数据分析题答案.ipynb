{
 "cells": [
  {
   "cell_type": "markdown",
   "id": "347c1c55",
   "metadata": {},
   "source": [
    "<h1 align=\"center\"><a name=\"home\">数据分析题 (综合练习）答案 </a></h1>"
   ]
  },
  {
   "cell_type": "markdown",
   "id": "ebc89db2",
   "metadata": {},
   "source": [
    "### ❖操作的步骤分为四步：\n",
    "#### ➣.以读方式打开文件及读取文件内容赋给变量s\n",
    "f=open('文件路径文件名','r') #以只读方式打开文件\n",
    "s=f.read()\n",
    "#### ➣.将文件里的内容按行读出并放到列表sh里（先按行进行分割；然后行内分割。分割后每行是一个列表元素。即列表里的元素还是列表。）\n",
    "shlist=list(s.split('\\n')) #以行为单位分割数据\n",
    "sh=[]\n",
    "for i in shlist:\n",
    "sh.append(list(i.split(','))) #行内的数据再以\",\"进行分割（为后续查询做准备）\n",
    "#### ➣.查找（编写查找的内容）：\n",
    "for n in range(1,len(sh)-1): #循环体（编写查找的内容）\n",
    "#### ➣.输出查找的结果：\n",
    "print(\"\") #按要求打印输出\n",
    "#### ➣关闭文件\n",
    "f.close()"
   ]
  },
  {
   "cell_type": "code",
   "execution_count": 1,
   "id": "00ed61ae",
   "metadata": {},
   "outputs": [
    {
     "name": "stdout",
     "output_type": "stream",
     "text": [
      "在该时间和维度条件出现的车辆有：\n",
      "时间：2:00车牌号：沪NX2820北纬：31.3106870000东经：121.2478700000\n",
      "时间：2:00车牌号：沪NX2593北纬：31.3037140000东经：121.3286180000\n",
      "时间：2:00车牌号：沪NX7730北纬：31.3080970000东经：121.2389760000\n",
      "时间：2:00车牌号：沪NX9279北纬：31.3012770000东经：121.3209020000\n"
     ]
    }
   ],
   "source": [
    "#第一题答案\n",
    "\n",
    "# 第一步以读方式打开文件及读取文件内容赋给变量s\n",
    "f=open('./data/car_data.txt','r')\n",
    "s=f.read()\n",
    "#print(s)查看读取文件内容\n",
    "\n",
    "#第二步将文件里的内容按行读出并放到列表sh里\n",
    "shlist=list(s.split('\\n'))        \n",
    "sh=[]\n",
    "for i in shlist:\n",
    "    sh.append(list(i.split(',')))#行内的数据再以\",\"进行分割（为后续查询做准备）\n",
    "#print(sh)查看经过行和行内分割后生成的列表的内容\n",
    "# 第三步对生成的列表进行查找（查找时注意：列表里的元素还是列表），最后输出查询的结果。\n",
    "\n",
    "print(\"在该时间和维度条件出现的车辆有：\") #输出最后结果的一部分要求 \n",
    "for n in range(len(sh)):\n",
    "    if sh[n][0]==\"2:00\" and float(sh[n][2])>=31.3:\n",
    "             print('时间：%s车牌号：%s北纬：%s东经：%s'%(sh[n][0],sh[n][1],sh[n][2],sh[n][3])) #  第四步输出查找的结果 \n",
    "f.close()"
   ]
  },
  {
   "cell_type": "code",
   "execution_count": 3,
   "id": "a974ae94",
   "metadata": {},
   "outputs": [
    {
     "name": "stdout",
     "output_type": "stream",
     "text": [
      "在该时间和维度条件出现的车辆有：\n",
      "时间：0:00车牌号：沪NX4865北纬：31.2226950000东经：121.5053130000\n",
      "时间：1:00车牌号：沪NX4865北纬：31.2224360000东经：121.5060090000\n",
      "时间：2:00车牌号：沪NX4865北纬：31.2224320000东经：121.5053240000\n",
      "时间：3:00车牌号：沪NX4865北纬：31.2225020000东经：121.5045570000\n",
      "时间：5:00车牌号：沪NX4865北纬：31.2222030000东经：121.5056300000\n"
     ]
    }
   ],
   "source": [
    "#第二题答案\n",
    "f=open('./data/car_data.txt','r')\n",
    "s=f.read()\n",
    "\n",
    "shlist=list(s.split('\\n'))        \n",
    "sh=[]\n",
    "for i in shlist:\n",
    "    sh.append(list(i.split(',')))#行内的数据再以\",\"进行分割（为后续查询做准备）\n",
    "    \n",
    "print(\"在该时间和维度条件出现的车辆有：\")\n",
    "for n in range(len(sh)-1):\n",
    "    if (31.2222<=float(sh[n][2])<=31.2333) and (121.45<=float(sh[n][3])<=121.55):\n",
    "             print('时间：%s车牌号：%s北纬：%s东经：%s'%(sh[n][0],sh[n][1],sh[n][2],sh[n][3]))\n",
    "f.close()"
   ]
  },
  {
   "cell_type": "code",
   "execution_count": 4,
   "id": "c868ddef",
   "metadata": {},
   "outputs": [
    {
     "name": "stdout",
     "output_type": "stream",
     "text": [
      "2007/10/16上证指数收盘最高点记录为6092.1\n"
     ]
    }
   ],
   "source": [
    "#第三题答案\n",
    "\n",
    "f=open('./data/上证指数.txt','r')\n",
    "s=f.read()\n",
    "\n",
    "shlist=list(s.split('\\n'))        #以行为单位分割数据\n",
    "sh=[]\n",
    "for i in shlist:\n",
    "    sh.append(list(i.split(',')))#行内的数据再以\",\"进行分割（为后续查询做准备）\n",
    "\n",
    "max=0\n",
    "for n in range(1,len(sh)-1):\n",
    "    if (float(sh[n][3])>max):\n",
    "        max=float(sh[n][3])\n",
    "        mdate=sh[n][0] \n",
    "        \n",
    "print('%s上证指数收盘最高点记录为%0.1f'%(mdate,max))\n",
    "f.close() #关闭文件"
   ]
  },
  {
   "cell_type": "code",
   "execution_count": 6,
   "id": "e93f41f1",
   "metadata": {},
   "outputs": [
    {
     "name": "stdout",
     "output_type": "stream",
     "text": [
      "2015/4/20上证指数成交量最高点记录为857132807\n"
     ]
    }
   ],
   "source": [
    "#第四题答案\n",
    "f=open('./data/上证指数.txt','r')\n",
    "s=f.read()\n",
    "##print(s)\n",
    "\n",
    "shlist=list(s.split('\\n'))        #以行为单位分割数据\n",
    "sh=[]\n",
    "for i in shlist:\n",
    "    sh.append(list(i.split(',')))#行内的数据再以\",\"进行分割（为后续查询做准备）\n",
    "##print(sh)\n",
    "\n",
    "max=0\n",
    "for n in range(1,len(sh)-1):\n",
    "    if (float(sh[n][6])>max):\n",
    "        max=float(sh[n][6])\n",
    "        mdate=sh[n][0]\n",
    "\n",
    "print('%s上证指数成交量最高点记录为%d'%(mdate,max))\n",
    "f.close()"
   ]
  },
  {
   "cell_type": "code",
   "execution_count": null,
   "id": "20fad658",
   "metadata": {},
   "outputs": [],
   "source": [
    "#第五题答案\n",
    "f=open('d:/素材/covid19jiangsu.txt','r')\n",
    "s=f.read()\n",
    "##print(s)\n",
    "\n",
    "shlist=list(s.split('\\n'))        #以行为单位分割数据\n",
    "sh=[]\n",
    "for i in shlist:\n",
    "    sh.append(list(i.split(',')))#行内的数据再以\",\"进行分割（为后续查询做准备）\n",
    "##print(sh)\n",
    "\n",
    "max=0\n",
    "for n in range(1,len(sh)-2):\n",
    "    if (int(sh[n+1][4])-int(sh[n][4]))>max:\n",
    "        #print(int(sh[n+1][4]),int(sh[n][4]))\n",
    "        max=int(sh[n+1][4])-int(sh[n][4])\n",
    "        mdate=sh[n+1][0]\n",
    "ss=mdate.split(\"/\")      \n",
    "print('%s年%s月%s日为江苏单日治愈增长最高日,较前日增长%d例'%(ss[2],ss[0],ss[1],max))\n",
    "f.close()"
   ]
  },
  {
   "cell_type": "code",
   "execution_count": 8,
   "id": "f6181110",
   "metadata": {},
   "outputs": [
    {
     "name": "stdout",
     "output_type": "stream",
     "text": [
      "符合条件的记录为：时间：9/5AM，收缩压：132，舒展压：81心率：78\n",
      "收缩压平均值：139.708\n"
     ]
    }
   ],
   "source": [
    "#第六题答案\n",
    "f=open('d:/素材/BP.txt','r')\n",
    "s=f.read()\n",
    "##print(s)\n",
    "\n",
    "shlist=list(s.split('\\n'))        #以行为单位分割数据并转换为列表\n",
    "sh=[]\n",
    "for i in shlist:\n",
    "    sh.append(list(i.split(',')))#行内的数据再以\",\"进行分割（为后续查询做准备）\n",
    "##print(sh)\n",
    "\n",
    "print('符合条件的记录为：',end=\"\")\n",
    "max=0\n",
    "s=0\n",
    "for n in range(1,len(sh)-1):\n",
    "    max+=int(sh[n][1])\n",
    "    s+=1\n",
    "    if int(sh[n][1])<140 and int(sh[n][3])>75:\n",
    "        print(\"时间：%s，收缩压：%s，舒展压：%s心率：%s\" % (sh[n][0],sh[n][1],sh[n][2],sh[n][3]))\n",
    "     \n",
    "print('收缩压平均值：%.3f'% (max/s))\n",
    "f.close()"
   ]
  },
  {
   "cell_type": "code",
   "execution_count": 9,
   "id": "c84a0c36",
   "metadata": {},
   "outputs": [
    {
     "name": "stdout",
     "output_type": "stream",
     "text": [
      "播放量最高的标题是：\n",
      "Python全栈开发从零基础到就业价值一多的Python全套教程现在分享给大家\n",
      " 播放量为9697.00万次\n"
     ]
    }
   ],
   "source": [
    "#第七题答案\n",
    "f=open(\"D:\\\\素材\\\\pyt.csv\")\n",
    "s=f.read()\n",
    "shlist=list(s.split(\"\\n\"))\n",
    "sh=[]\n",
    "for i in shlist:\n",
    "    sh.append(i.split(\",\"))\n",
    "max=0\n",
    "for n in range(1,len(sh)-1):\n",
    "    \n",
    "    if float(sh[n][3])>max:\n",
    "        max=float(sh[n][3])\n",
    "        mtitle=sh[n][1]\n",
    "print(\"播放量最高的标题是：\")\n",
    "print(\"%s\\n 播放量为%.2f万次\"% (mtitle,max))\n",
    "f.close()"
   ]
  },
  {
   "cell_type": "code",
   "execution_count": 10,
   "id": "e96a1174",
   "metadata": {},
   "outputs": [
    {
     "name": "stdout",
     "output_type": "stream",
     "text": [
      "弹幕数量最高的标题是：\n",
      "【莫烦Python】Numpy &amp; Pandas (数据处理教程)\n",
      "弹幕数量为8340.00\n"
     ]
    }
   ],
   "source": [
    "#第八题答案\n",
    "f=open(\"D:\\\\素材\\pyt.csv\",\"r\")\n",
    "s=f.read()\n",
    "shlist=list(s.split(\"\\n\"))\n",
    "sh=[]\n",
    "for i in shlist:\n",
    "    sh.append(i.split(\",\"))\n",
    "max=0\n",
    "for n in range(1,len(sh)-1):##注意越界，如果越界就减一\n",
    "    if float(sh[n][4])>max:\n",
    "        max=float(sh[n][4])\n",
    "        mtitle=sh[n][1]\n",
    "print(\"弹幕数量最高的标题是：\\n%s\"% mtitle)\n",
    "print(\"弹幕数量为%.2f\"%max)\n",
    "\n",
    "f.close()"
   ]
  },
  {
   "cell_type": "code",
   "execution_count": 11,
   "id": "94c50b75",
   "metadata": {},
   "outputs": [
    {
     "name": "stdout",
     "output_type": "stream",
     "text": [
      "弹幕数量最高的标题是：\n",
      "【莫烦Python】Numpy &amp; Pandas (数据处理教程)\n",
      "弹幕数量为8340.00\n"
     ]
    }
   ],
   "source": [
    "#第九题答案\n",
    "f=open(\"D:\\\\素材\\pyt.csv\",\"r\")\n",
    "s=f.read()\n",
    "shlist=list(s.split(\"\\n\"))\n",
    "sh=[]\n",
    "for i in shlist:\n",
    "    sh.append(i.split(\",\"))\n",
    "max=0\n",
    "for n in range(1,len(sh)-1):##注意越界，如果越界就减一\n",
    "    if float(sh[n][4])>max:\n",
    "        max=float(sh[n][4])\n",
    "        mtitle=sh[n][1]\n",
    "print(\"弹幕数量最高的标题是：\\n%s\"% mtitle)\n",
    "print(\"弹幕数量为%.2f\"%max)\n",
    "\n",
    "f.close()"
   ]
  },
  {
   "cell_type": "code",
   "execution_count": null,
   "id": "5aaccfd8",
   "metadata": {},
   "outputs": [],
   "source": []
  }
 ],
 "metadata": {
  "kernelspec": {
   "display_name": "Python 3 (ipykernel)",
   "language": "python",
   "name": "python3"
  },
  "language_info": {
   "codemirror_mode": {
    "name": "ipython",
    "version": 3
   },
   "file_extension": ".py",
   "mimetype": "text/x-python",
   "name": "python",
   "nbconvert_exporter": "python",
   "pygments_lexer": "ipython3",
   "version": "3.9.13"
  }
 },
 "nbformat": 4,
 "nbformat_minor": 5
}
